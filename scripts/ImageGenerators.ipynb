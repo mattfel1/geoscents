{
 "cells": [
  {
   "cell_type": "code",
   "execution_count": null,
   "metadata": {},
   "outputs": [],
   "source": [
    "# Mapbox Token: \n",
    "#cimgt.MapboxTiles(\"pk.eyJ1IjoibWF0dGZlbCIsImEiOiJjbDJrcGJkZ2YwMWR1M2pwbjJtNjBqbnc4In0.wxOBcerUls3bci-tGn_hIA\", map_id='satellite-v9')"
   ]
  },
  {
   "cell_type": "code",
   "execution_count": null,
   "metadata": {},
   "outputs": [],
   "source": [
    "# import sys\n",
    "# !conda install --yes --prefix {sys.prefix}  -c conda-forge cartopy"
   ]
  },
  {
   "cell_type": "code",
   "execution_count": null,
   "metadata": {},
   "outputs": [],
   "source": []
  },
  {
   "cell_type": "code",
   "execution_count": null,
   "metadata": {},
   "outputs": [],
   "source": [
    "import sys\n",
    "print(sys.executable)\n",
    "print(sys.version)\n",
    "print(sys.version_info)\n",
    "import cartopy\n",
    "print(cartopy.__version__)\n",
    "import ssl\n",
    "ssl._create_default_https_context = ssl._create_unverified_context\n",
    "\n",
    "%load_ext autoreload\n",
    "%autoreload 2\n",
    "\n",
    "import numpy as np\n",
    "import matplotlib.pyplot as plt\n",
    "from PIL import Image\n",
    "from PIL import ImageOps\n",
    "import IPython.display as display\n",
    "import os, math, time\n",
    "import cartopy.crs as ccrs\n",
    "import cartopy \n",
    "import matplotlib.pyplot as plt\n",
    "import cartopy.feature as cfeature\n",
    "import os\n",
    "import matplotlib.gridspec as gridspec\n",
    "from PIL import ImageDraw\n",
    "import matplotlib.ticker as mticker\n",
    "\n",
    "import cartopy.io.img_tiles as cimgt\n",
    "\n",
    "from matplotlib.image import imread\n",
    "import numpy as np\n",
    "\n",
    "def get_num_pixels(filepath):\n",
    "    width, height = Image.open(filepath).size\n",
    "    return width*height\n",
    "\n",
    "import cartopy.crs as ccrs\n",
    "import cartopy\n",
    "import matplotlib.pyplot as plt\n",
    "import cartopy.feature as cfeature\n",
    "import os\n",
    "%matplotlib inline\n",
    "import matplotlib.pyplot as plt\n",
    "from PIL import ImageFont\n",
    "\n",
    "import cartopy.io.img_tiles as cimgt\n",
    "from cartopy.mpl.gridliner import LONGITUDE_FORMATTER, LATITUDE_FORMATTER\n",
    "\n",
    "from matplotlib.image import imread\n",
    "\n",
    "geoscents_home='/home/mattfel/geoscents/'\n"
   ]
  },
  {
   "cell_type": "code",
   "execution_count": null,
   "metadata": {},
   "outputs": [],
   "source": [
    "def zoomLevel(coords):\n",
    "    zoom_level = 6\n",
    "    if (coords[3] - coords[2] < 5): #i.e. switzerland\n",
    "        zoom_level = 10\n",
    "    elif (coords[1] - coords[0] < 1.5): #i.e. vatican\n",
    "        zoom_level = 17\n",
    "\n",
    "    return zoom_level\n",
    "\n",
    "def isPolar(coords):\n",
    "    return coords[2] == -90 or coords[3] == 90\n",
    "\n",
    "\n",
    "def basicFig(render, coords):\n",
    "    \n",
    "    zoom_level = zoomLevel(coords)\n",
    "        \n",
    "    split = coords[1] > 180 and coords[0] < 180 and not isPolar(coords)\n",
    "    if (coords[0] < -180):\n",
    "        print(\"please cross dateline at +180, not -180!\")\n",
    "        return\n",
    "    \n",
    "    my_dpi = 96\n",
    "    cols = 1530 / my_dpi\n",
    "    rows = 900 / my_dpi\n",
    "    if (isPolar(coords)):\n",
    "        # crop later\n",
    "        rows = 1530 / my_dpi\n",
    "    f = plt.figure(figsize=(cols, rows), dpi=my_dpi, frameon=False)\n",
    "    if (split):\n",
    "        spec = gridspec.GridSpec(ncols=2, nrows=1,width_ratios=[180 - coords[0],coords[1] - 180])\n",
    "\n",
    "    plt.subplots_adjust(left=0.0, right=1.0, top=1.0, bottom=0)\n",
    "\n",
    "    projection = ccrs.Mercator(central_longitude=0)\n",
    "    if (isPolar(coords)):\n",
    "        lat = -90\n",
    "        if (coords[3] == 90):\n",
    "            lat = 90\n",
    "        projection = ccrs.AzimuthalEquidistant(central_latitude=lat)\n",
    "#         projection = ccrs.SouthPolarStereo()\n",
    "    \n",
    "    if (split):\n",
    "        ax1 = f.add_subplot(spec[0],projection=projection)\n",
    "        ax1.set_extent([coords[0], 180, coords[2], coords[3]], crs=ccrs.PlateCarree())\n",
    "        ax2 = f.add_subplot(spec[1],projection=projection)\n",
    "        ax2.set_extent([-180, coords[1] - 360, coords[2], coords[3]], crs=ccrs.PlateCarree())\n",
    "    else:\n",
    "        ax1 = plt.axes(projection=projection)\n",
    "        ax1.set_extent(coords,  crs=ccrs.PlateCarree())\n",
    "        ax2 = None\n",
    "    ax1.set_axis_off()\n",
    "\n",
    "    \n",
    "    if (coords[2] != -90):\n",
    "        coastline = cfeature.NaturalEarthFeature('physical', 'coastline', '50m', edgecolor='black',\n",
    "                                                   facecolor='none')\n",
    "        borders = cfeature.NaturalEarthFeature('cultural', 'admin_0_countries', '10m', edgecolor='black',\n",
    "                                                   facecolor='none')\n",
    "        dispute = cfeature.NaturalEarthFeature('cultural', 'admin_0_breakaway_disputed_areas', '50m', edgecolor='red',\n",
    "                                                   facecolor='none')\n",
    "        ax1.add_feature(coastline)\n",
    "        ax1.add_feature(borders, linewidth = 0.5, linestyle='-')\n",
    "        ax1.add_feature(dispute, linewidth = 0.6, linestyle='-')\n",
    "        \n",
    "    if (split):\n",
    "        ax2.add_feature(coastline)\n",
    "        ax2.add_feature(borders, linewidth = 0.5, linestyle='-')\n",
    "        ax2.add_feature(dispute, linewidth = 0.6, linestyle='-')\n",
    "\n",
    "    if (render == 'terrain'):\n",
    "        # Create a Stamen terrain background instance.\n",
    "        ax1.add_feature(cartopy.feature.RIVERS, alpha = 0.8)\n",
    "        ax1.add_feature(cartopy.feature.LAKES, alpha = 0.8)\n",
    "        terrain = cimgt.Stamen('terrain-background')\n",
    "        ax1.add_image(terrain, zoom_level)\n",
    "        if (split):\n",
    "            ax2.add_feature(cartopy.feature.RIVERS, alpha = 0.8)\n",
    "            ax2.add_feature(cartopy.feature.LAKES, alpha = 0.8)\n",
    "            ax2.add_image(terrain, zoom_level)\n",
    "            ax1.outline_patch.set_edgecolor('#99B3CC')\n",
    "            ax2.outline_patch.set_edgecolor('#99B3CC')\n",
    "    elif (render == 'satellite'):\n",
    "        terrain = cimgt.GoogleTiles(style='satellite') # need cartopy 0.19 or 0.20 for cache=True)\n",
    "        ax1.add_image(terrain, zoom_level)\n",
    "        if (split):\n",
    "            ax2.add_image(terrain, zoom_level)\n",
    "\n",
    "    else:\n",
    "       \n",
    "        land_50m = cfeature.NaturalEarthFeature('physical', 'land', '10m',\n",
    "                                    edgecolor='coral', facecolor='coral')\n",
    "        ax1.add_feature(land_50m)\n",
    "        # Get cartopy features for plotting\n",
    "        ax1.add_feature(cfeature.LAKES, alpha = 0.4, color = 'aqua')\n",
    "        rivers = cfeature.NaturalEarthFeature('physical', 'rivers_lake_centerlines', '50m')\n",
    "        ax1.add_feature(rivers, facecolor='None', edgecolor='aqua', alpha = 0.4)\n",
    "\n",
    "        ax1.add_feature(cfeature.NaturalEarthFeature('physical', 'ocean', '50m', edgecolor='aqua', facecolor='aqua'))\n",
    "\n",
    "        borders = cfeature.NaturalEarthFeature('cultural', 'admin_0_countries', '10m', edgecolor='black',\n",
    "                                                   facecolor='none')\n",
    "        ax1.add_feature(borders, linewidth = 0.5, linestyle='-')\n",
    "\n",
    "        dispute = cfeature.NaturalEarthFeature('cultural', 'admin_0_breakaway_disputed_areas', '50m', edgecolor='red',\n",
    "                                                   facecolor='none')\n",
    "        ax1.add_feature(dispute, linewidth = 0.6, linestyle='-')\n",
    "        coastline = cfeature.NaturalEarthFeature('physical', 'coastline', '50m', edgecolor='black',\n",
    "                                               facecolor='none')\n",
    "        ax1.add_feature(coastline)\n",
    "        if (split):\n",
    "            ax2.add_feature(land_50m)\n",
    "            ax2.add_feature(cfeature.LAKES, alpha = 0.4, color = 'aqua')\n",
    "            ax2.add_feature(rivers, facecolor='None', edgecolor='aqua', alpha = 0.4)\n",
    "            ax2.add_feature(cfeature.NaturalEarthFeature('physical', 'ocean', '50m', edgecolor='aqua', facecolor='aqua'))\n",
    "            ax2.add_feature(borders, linewidth = 0.5, linestyle='-')\n",
    "            ax2.add_feature(dispute, linewidth = 0.6, linestyle='-')\n",
    "            ax2.add_feature(coastline)\n",
    "            plt.gca().outline_patch.set_visible(False)\n",
    "            \n",
    "    if (isPolar(coords)):\n",
    "        gl = ax1.gridlines(color='gray', alpha=0.5, linestyle='--', draw_labels=True, x_inline=True, y_inline=True)\n",
    "        gl.xlocator = mticker.LinearLocator(19)\n",
    "        if (coords[2] == -90):\n",
    "            yticks = np.arange(70, 91, 10)\n",
    "            gl.ylocator = mticker.FixedLocator(np.arange(coords[3], coords[2], -5))\n",
    "        else:\n",
    "            yticks = np.arange(70, 91, 10)\n",
    "            gl.ylocator = mticker.FixedLocator(np.arange(coords[3], coords[2], -5))\n",
    "        gl.xlabel_style = {'color': 'gray', 'alpha': 0.9, 'size': 11}\n",
    "        gl.ylabel_style = {'color': 'gray', 'alpha': 0.9, 'size': 11}\n",
    "        gl.xformatter = LONGITUDE_FORMATTER\n",
    "        gl.yformatter = LATITUDE_FORMATTER\n",
    "        # make the circle in the middle blend in\n",
    "        center_color = 'aqua'\n",
    "        if (render == \"terrain\" and coords[2] == -90):\n",
    "            center_color = \"#f0fbfb\"\n",
    "        elif (render == \"satellite\" and coords[2] == -90):\n",
    "            center_color = \"#bcbeca\"\n",
    "        elif (render == \"terrain\" and coords[3] == 90):\n",
    "            center_color = \"#99b3cc\"\n",
    "        elif (render == \"satellite\" and coords[3] == 90):\n",
    "            center_color = \"#283871\"\n",
    "        ax1.add_feature(cartopy.feature.LAND, color = center_color)\n",
    "        ax1.add_feature(cartopy.feature.OCEAN, color = center_color)\n",
    "    if (split):\n",
    "        plt.subplots_adjust(wspace=-0.00001)\n",
    "\n",
    "\n",
    "    return plt,ax1,ax2\n",
    "\n",
    "\n",
    "def classic(coords, name):      \n",
    "    plt,ax1,ax2 = basicFig('classic', coords)\n",
    "    states = cfeature.NaturalEarthFeature('cultural', 'admin_1_states_provinces', '10m', edgecolor='darkblue',\n",
    "                                               facecolor='none')\n",
    "    ax1.add_feature(states, linewidth = 0.1, linestyle='-')\n",
    "    if (ax2):\n",
    "        ax2.add_feature(states, linewidth = 0.1, linestyle='-')\n",
    "    plt.savefig(geoscents_home + '/resources/maps/' + name + '_classic.png', transparent=True, pad_inches=0, bbox_inches='tight')\n",
    "    img = Image.open(geoscents_home + '/resources/maps/' + name + '_classic.png')\n",
    "    if (isPolar(coords)):\n",
    "        # Antarctica starts out 1530x1530, needs to be cropped\n",
    "        img = img.crop((0, 315, 1530, 1215))\n",
    "        img.save(geoscents_home + '/resources/maps/' + name + '_classic.png')\n",
    "    \n",
    "    print(img)\n",
    "    print(\"dims ok?\")\n",
    "    width_min = 1528\n",
    "    width_max = 1532\n",
    "    height_min = 898\n",
    "    height_max = 902\n",
    "    ok = img.size[0] > width_min and img.size[0] < width_max and img.size[1] > height_min and img.size[1] < height_max\n",
    "    print(ok)\n",
    "    if (img.size[0] < width_min):\n",
    "        print(\"too short horizontally. Make wider\")\n",
    "    if (img.size[0] > width_max):\n",
    "        print(\"too long horizontally. Make shorter\")\n",
    "    if (img.size[1] < height_min):\n",
    "        print(\"too short vertically. Make taller\")\n",
    "    if (img.size[1] > height_max):\n",
    "        print(\"too tall vertically. Make wider\")\n",
    "\n",
    "    if (zoomLevel(coords) > 15):\n",
    "        I1 = ImageDraw.Draw(img)\n",
    "\n",
    "        # Add Text to an image\n",
    "        I1.text((1300, 50), \"Please use satellite map --->\", fill=(255, 0, 0))\n",
    "        img.save(geoscents_home + '/resources/maps/' + name + '_classic.png')\n",
    "        img.show()\n",
    "    \n",
    "        \n",
    "    return ok\n",
    "\n",
    "\n",
    "def terrain(coords, name):\n",
    "    plt,ax1,ax2 = basicFig(\"terrain\", coords)\n",
    "    states = cfeature.NaturalEarthFeature('cultural', 'admin_1_states_provinces', '10m', edgecolor='darkblue',\n",
    "                                               facecolor='none')\n",
    "    ax1.add_feature(states, linewidth = 0.1, linestyle='-')\n",
    "    if (ax2):\n",
    "        ax2.add_feature(states, linewidth = 0.1, linestyle='-')\n",
    "    plt.savefig(geoscents_home + '/resources/maps/' + name + '_terrain.png', transparent=True, pad_inches=0, bbox_inches='tight')\n",
    "    # plt.show()\n",
    "    img = Image.open(geoscents_home + '/resources/maps/' + name + '_terrain.png')\n",
    "    # Also save as name.png for data visualizer    \n",
    "    plt.savefig(geoscents_home + '/resources/maps/' + name + '.png', transparent=True, pad_inches=0, bbox_inches='tight')\n",
    "    if (isPolar(coords)):\n",
    "        # Antarctica starts out 1530x1530, needs to be cropped\n",
    "        img = img.crop((0, 315, 1530, 1215))\n",
    "        img.save(geoscents_home + '/resources/maps/' + name + '_terrain.png')\n",
    "        img.save(geoscents_home + '/resources/maps/' + name + '.png')\n",
    "\n",
    "    print(img)\n",
    "    \n",
    "    if (zoomLevel(coords) > 15):\n",
    "        I1 = ImageDraw.Draw(img)\n",
    "\n",
    "        # Add Text to an image\n",
    "        I1.text((1300, 50), \"Please use satellite map --->\", fill=(255, 0, 0))\n",
    "        img.save(geoscents_home + '/resources/maps/' + name + '_terrain.png')\n",
    "        \n",
    "    \n",
    "def satellite(coords, name):\n",
    "    plt,ax1,ax2 = basicFig('satellite', coords)\n",
    "    states = cfeature.NaturalEarthFeature('cultural', 'admin_1_states_provinces', '10m', edgecolor='darkblue',\n",
    "                                               facecolor='none')\n",
    "    ax1.add_feature(states, linewidth = 0.25, linestyle='--')\n",
    "    if (ax2):\n",
    "        ax2.add_feature(states, linewidth = 0.25, linestyle='--')\n",
    "\n",
    "    plt.savefig(geoscents_home + '/resources/maps/' + name + '_satellite.png', transparent=False, pad_inches=0, bbox_inches='tight')\n",
    "    img = Image.open(geoscents_home + '/resources/maps/' + name + '_satellite.png')\n",
    "    if (isPolar(coords)):\n",
    "        # Antarctica starts out 1530x1530, needs to be cropped\n",
    "        img = img.crop((0, 315, 1530, 1215))\n",
    "        img.save(geoscents_home + '/resources/maps/' + name + '_satellite.png')\n",
    "\n",
    "    if (zoomLevel(coords) > 15):\n",
    "        # Also save as name.png for data visualizer\n",
    "        plt.savefig(geoscents_home + '/resources/maps/' + name + '.png', transparent=True, pad_inches=0, bbox_inches='tight')\n",
    "        print(img)\n",
    "    \n",
    "\n",
    "def basic_satellite(coords, name):\n",
    "    # World\n",
    "    plt,ax1,ax2 = basicFig('satellite', coords)\n",
    "    # plt.show()\n",
    "    plt.savefig(geoscents_home + '/resources/maps/' + name + '_satellite.png', transparent=True, pad_inches=0, bbox_inches='tight')\n"
   ]
  },
  {
   "cell_type": "code",
   "execution_count": null,
   "metadata": {},
   "outputs": [],
   "source": []
  },
  {
   "cell_type": "code",
   "execution_count": null,
   "metadata": {},
   "outputs": [],
   "source": []
  },
  {
   "cell_type": "markdown",
   "metadata": {},
   "source": [
    "# Core maps"
   ]
  },
  {
   "cell_type": "code",
   "execution_count": null,
   "metadata": {},
   "outputs": [],
   "source": [
    "coords = [-180, 180, -55.1, 81.05]\n",
    "name = \"trivia\"\n",
    "ok = classic(coords, name)\n",
    "if (ok):\n",
    "    terrain(coords, name)\n",
    "    basic_satellite(coords, name)"
   ]
  },
  {
   "cell_type": "code",
   "execution_count": null,
   "metadata": {},
   "outputs": [],
   "source": [
    "coords = [-180, 180, -65.3, 77.2]\n",
    "name = \"world\"\n",
    "ok = classic(coords, name)\n",
    "if (ok):\n",
    "    terrain(coords, name)\n",
    "    basic_satellite(coords, name)"
   ]
  },
  {
   "cell_type": "code",
   "execution_count": null,
   "metadata": {},
   "outputs": [],
   "source": [
    "coords = [-60, 82, -36.3, 41]\n",
    "name = \"africa\"\n",
    "ok = classic(coords, name)\n",
    "if (ok):\n",
    "    terrain(coords, name)\n",
    "    basic_satellite(coords, name)"
   ]
  },
  {
   "cell_type": "code",
   "execution_count": null,
   "metadata": {},
   "outputs": [],
   "source": [
    "coords = [-180, 180, -65.3, 77.2]\n",
    "name = \"worldcapital\"\n",
    "ok = classic(coords, name)\n",
    "if (ok):\n",
    "    terrain(coords, name)\n",
    "    basic_satellite(coords, name)"
   ]
  },
  {
   "cell_type": "code",
   "execution_count": null,
   "metadata": {},
   "outputs": [],
   "source": [
    "coords = [-141, -43, 10, 56]\n",
    "name = \"namerica\"\n",
    "ok = classic(coords, name)\n",
    "if (ok):\n",
    "    terrain(coords, name)\n",
    "    basic_satellite(coords, name)"
   ]
  },
  {
   "cell_type": "code",
   "execution_count": null,
   "metadata": {},
   "outputs": [],
   "source": [
    "coords = [-36.3, 52, 35, 66.3]\n",
    "name = \"europe\"\n",
    "ok = classic(coords, name)\n",
    "if (ok):\n",
    "    terrain(coords, name)\n",
    "    basic_satellite(coords, name)"
   ]
  },
  {
   "cell_type": "code",
   "execution_count": null,
   "metadata": {
    "scrolled": true
   },
   "outputs": [],
   "source": [
    "coords = [-140, 17, -56, 24.1]\n",
    "name = \"samerica\"\n",
    "ok = classic(coords, name)\n",
    "if (ok):\n",
    "    terrain(coords, name)\n",
    "    basic_satellite(coords, name)"
   ]
  },
  {
   "cell_type": "code",
   "execution_count": null,
   "metadata": {},
   "outputs": [],
   "source": [
    "coords = [25, 158, -1, 61.05]\n",
    "name = \"asia\"\n",
    "ok = classic(coords, name)\n",
    "if (ok):\n",
    "    terrain(coords, name)\n",
    "    basic_satellite(coords, name)"
   ]
  },
  {
   "cell_type": "code",
   "execution_count": null,
   "metadata": {},
   "outputs": [],
   "source": [
    "coords = [92, 252, -54.55, 28]\n",
    "name = \"oceania\"\n",
    "ok = classic(coords, name)\n",
    "if (ok):\n",
    "    terrain(coords, name)\n",
    "    basic_satellite(coords, name)"
   ]
  },
  {
   "cell_type": "code",
   "execution_count": null,
   "metadata": {},
   "outputs": [],
   "source": []
  },
  {
   "cell_type": "markdown",
   "metadata": {},
   "source": [
    "# Countries"
   ]
  },
  {
   "cell_type": "code",
   "execution_count": null,
   "metadata": {},
   "outputs": [],
   "source": [
    "coords = [3.33, 18, 43, 49]\n",
    "name = \"alps\"\n",
    "ok = classic(coords, name)\n",
    "if (ok):\n",
    "    terrain(coords, name)\n",
    "    satellite(coords, name)"
   ]
  },
  {
   "cell_type": "code",
   "execution_count": null,
   "metadata": {},
   "outputs": [],
   "source": [
    "coords = [-180, 180, 45, 90]\n",
    "name = \"arctic\"\n",
    "ok = classic(coords, name)\n",
    "if (ok):\n",
    "    terrain(coords, name)\n",
    "    satellite(coords, name)"
   ]
  },
  {
   "cell_type": "code",
   "execution_count": null,
   "metadata": {},
   "outputs": [],
   "source": [
    "# For some reason, -180 to 180 makes the image 896x900 and not a square...\n",
    "coords = [-180, 180, -90, -52]\n",
    "name = \"antarctica\"\n",
    "ok = classic(coords, name)\n",
    "if (ok):\n",
    "    terrain(coords, name)\n",
    "    satellite(coords, name)"
   ]
  },
  {
   "cell_type": "code",
   "execution_count": null,
   "metadata": {},
   "outputs": [],
   "source": [
    "coords = [-17.8, 23, 18, 39]\n",
    "name = \"algeria\"\n",
    "ok = classic(coords, name)\n",
    "if (ok):\n",
    "    terrain(coords, name)\n",
    "    satellite(coords, name)"
   ]
  },
  {
   "cell_type": "code",
   "execution_count": null,
   "metadata": {},
   "outputs": [],
   "source": [
    "coords = [8.15, 29, 48.5, 56]\n",
    "name = \"poland\"\n",
    "ok = classic(coords, name)\n",
    "if (ok):\n",
    "    terrain(coords, name)\n",
    "    satellite(coords, name)"
   ]
  },
  {
   "cell_type": "code",
   "execution_count": null,
   "metadata": {},
   "outputs": [],
   "source": []
  },
  {
   "cell_type": "code",
   "execution_count": null,
   "metadata": {},
   "outputs": [],
   "source": [
    "coords = [32.65, 53, 28.5, 38.5]\n",
    "name = \"iraq\"\n",
    "ok = classic(coords, name)\n",
    "if (ok):\n",
    "    terrain(coords, name)\n",
    "    satellite(coords, name)"
   ]
  },
  {
   "cell_type": "code",
   "execution_count": null,
   "metadata": {},
   "outputs": [],
   "source": [
    "coords = [27, 38.335, -1.7, 5]\n",
    "name = \"uganda\"\n",
    "ok = classic(coords, name)\n",
    "if (ok):\n",
    "    terrain(coords, name)\n",
    "    satellite(coords, name)"
   ]
  },
  {
   "cell_type": "code",
   "execution_count": null,
   "metadata": {},
   "outputs": [],
   "source": [
    "coords = [15, 45, 7.5, 24.5]\n",
    "name = \"sudan\"\n",
    "ok = classic(coords, name)\n",
    "if (ok):\n",
    "    terrain(coords, name)\n",
    "    satellite(coords, name)"
   ]
  },
  {
   "cell_type": "code",
   "execution_count": null,
   "metadata": {},
   "outputs": [],
   "source": [
    "coords = [94.5, 157, 20, 49.65]\n",
    "name = \"eastasia\"\n",
    "ok = classic(coords, name)\n",
    "if (ok):\n",
    "    terrain(coords, name)\n",
    "    satellite(coords, name)"
   ]
  },
  {
   "cell_type": "code",
   "execution_count": null,
   "metadata": {},
   "outputs": [],
   "source": [
    "coords = [69, 98.62, 23, 38]\n",
    "name = \"himalayas\"\n",
    "ok = classic(coords, name)\n",
    "if (ok):\n",
    "    terrain(coords, name)\n",
    "    satellite(coords, name)"
   ]
  },
  {
   "cell_type": "code",
   "execution_count": null,
   "metadata": {},
   "outputs": [],
   "source": [
    "coords = [77, 152, -10.5, 32]\n",
    "name = \"indochina\"\n",
    "ok = classic(coords, name)\n",
    "if (ok):\n",
    "    terrain(coords, name)\n",
    "    satellite(coords, name)"
   ]
  },
  {
   "cell_type": "code",
   "execution_count": null,
   "metadata": {
    "scrolled": true
   },
   "outputs": [],
   "source": [
    "coords = [78, 117, 8.5, 30.1]\n",
    "name = \"myanmar\"\n",
    "ok = classic(coords, name)\n",
    "if (ok):\n",
    "    terrain(coords, name)\n",
    "    satellite(coords, name)"
   ]
  },
  {
   "cell_type": "code",
   "execution_count": null,
   "metadata": {},
   "outputs": [],
   "source": [
    "coords = [19, 190, 31.5, 79]\n",
    "name = \"russia\"\n",
    "ok = classic(coords, name)\n",
    "if (ok):\n",
    "    terrain(coords, name)\n",
    "    satellite(coords, name)"
   ]
  },
  {
   "cell_type": "code",
   "execution_count": null,
   "metadata": {},
   "outputs": [],
   "source": [
    "coords = [28, 53.85, 3, 18]\n",
    "name = \"ethiopia\"\n",
    "ok = classic(coords, name)\n",
    "if (ok):\n",
    "    terrain(coords, name)\n",
    "    satellite(coords, name)"
   ]
  },
  {
   "cell_type": "code",
   "execution_count": null,
   "metadata": {},
   "outputs": [],
   "source": [
    "coords = [87, 116.65, 5, 22]\n",
    "name = \"thailand\"\n",
    "ok = classic(coords, name)\n",
    "if (ok):\n",
    "    terrain(coords, name)\n",
    "    satellite(coords, name)"
   ]
  },
  {
   "cell_type": "code",
   "execution_count": null,
   "metadata": {},
   "outputs": [],
   "source": [
    "coords = [24, 45, -12, 0.35]\n",
    "name = \"tanzania\"\n",
    "ok = classic(coords, name)\n",
    "if (ok):\n",
    "    terrain(coords, name)\n",
    "    satellite(coords, name)"
   ]
  },
  {
   "cell_type": "code",
   "execution_count": null,
   "metadata": {},
   "outputs": [],
   "source": [
    "coords = [84.03, 97, 20.5, 27.5]\n",
    "name = \"bangladesh\"\n",
    "ok = classic(coords, name)\n",
    "if (ok):\n",
    "    terrain(coords, name)\n",
    "    satellite(coords, name)"
   ]
  },
  {
   "cell_type": "code",
   "execution_count": null,
   "metadata": {},
   "outputs": [],
   "source": [
    "coords = [100.47, 110, 10, 15.5]\n",
    "name = \"cambodia\"\n",
    "ok = classic(coords, name)\n",
    "if (ok):\n",
    "    terrain(coords, name)\n",
    "    satellite(coords, name)"
   ]
  },
  {
   "cell_type": "code",
   "execution_count": null,
   "metadata": {},
   "outputs": [],
   "source": [
    "coords = [0, 23.95, 1, 15]\n",
    "name = \"cameroon\"\n",
    "ok = classic(coords, name)\n",
    "if (ok):\n",
    "    terrain(coords, name)\n",
    "    satellite(coords, name)"
   ]
  },
  {
   "cell_type": "code",
   "execution_count": null,
   "metadata": {},
   "outputs": [],
   "source": [
    "coords = [-3.9, 21.05, 11, 25]\n",
    "name = \"niger\"\n",
    "ok = classic(coords, name)\n",
    "if (ok):\n",
    "    terrain(coords, name)\n",
    "    satellite(coords, name)"
   ]
  },
  {
   "cell_type": "code",
   "execution_count": null,
   "metadata": {},
   "outputs": [],
   "source": [
    "coords = [2, 33.8, 7, 25]\n",
    "name = \"chad\"\n",
    "ok = classic(coords, name)\n",
    "if (ok):\n",
    "    terrain(coords, name)\n",
    "    satellite(coords, name)"
   ]
  },
  {
   "cell_type": "code",
   "execution_count": null,
   "metadata": {},
   "outputs": [],
   "source": [
    "coords = [11.78, 29, 2.1, 12.2]\n",
    "name = \"centralafricanrepublic\"\n",
    "ok = classic(coords, name)\n",
    "if (ok):\n",
    "    terrain(coords, name)\n",
    "    satellite(coords, name)"
   ]
  },
  {
   "cell_type": "code",
   "execution_count": null,
   "metadata": {},
   "outputs": [],
   "source": [
    "coords = [-19, 11.37, 9.5, 26.5]\n",
    "name = \"mali\"\n",
    "ok = classic(coords, name)\n",
    "if (ok):\n",
    "    terrain(coords, name)\n",
    "    satellite(coords, name)"
   ]
  },
  {
   "cell_type": "code",
   "execution_count": null,
   "metadata": {},
   "outputs": [],
   "source": [
    "coords = [-85.4, -64.5, 14.43, 26]\n",
    "name = \"greaterantilles\"\n",
    "ok = classic(coords, name)\n",
    "if (ok):\n",
    "    terrain(coords, name)\n",
    "    satellite(coords, name)"
   ]
  },
  {
   "cell_type": "code",
   "execution_count": null,
   "metadata": {},
   "outputs": [],
   "source": [
    "coords = [-74, -56.47, 10, 20]\n",
    "name = \"lesserantilles\"\n",
    "ok = classic(coords, name)\n",
    "if (ok):\n",
    "    terrain(coords, name)\n",
    "    satellite(coords, name)"
   ]
  },
  {
   "cell_type": "code",
   "execution_count": null,
   "metadata": {},
   "outputs": [],
   "source": [
    "coords = [42.8, 90, 40, 58]\n",
    "name = \"kazakhstan\"\n",
    "ok = classic(coords, name)\n",
    "if (ok):\n",
    "    terrain(coords, name)\n",
    "    satellite(coords, name)"
   ]
  },
  {
   "cell_type": "code",
   "execution_count": null,
   "metadata": {},
   "outputs": [],
   "source": [
    "coords = [68.6, 81, 38.5, 44]\n",
    "name = \"kyrgyzstan\"\n",
    "ok = classic(coords, name)\n",
    "if (ok):\n",
    "    terrain(coords, name)\n",
    "    satellite(coords, name)"
   ]
  },
  {
   "cell_type": "code",
   "execution_count": null,
   "metadata": {},
   "outputs": [],
   "source": [
    "coords = [64.9, 78, 36, 42]\n",
    "name = \"tajikistan\"\n",
    "ok = classic(coords, name)\n",
    "if (ok):\n",
    "    terrain(coords, name)\n",
    "    satellite(coords, name)"
   ]
  },
  {
   "cell_type": "code",
   "execution_count": null,
   "metadata": {},
   "outputs": [],
   "source": [
    "coords = [52, 78, 36, 47.41]\n",
    "name = \"uzbekistan\"\n",
    "ok = classic(coords, name)\n",
    "if (ok):\n",
    "    terrain(coords, name)\n",
    "    satellite(coords, name)"
   ]
  },
  {
   "cell_type": "code",
   "execution_count": null,
   "metadata": {},
   "outputs": [],
   "source": [
    "coords = [50, 72, 34, 44.06]\n",
    "name = \"turkmenistan\"\n",
    "ok = classic(coords, name)\n",
    "if (ok):\n",
    "    terrain(coords, name)\n",
    "    satellite(coords, name)"
   ]
  },
  {
   "cell_type": "code",
   "execution_count": null,
   "metadata": {},
   "outputs": [],
   "source": [
    "coords = [-14.34, 0, 36.5, 43]\n",
    "name = \"portugal\"\n",
    "ok = classic(coords, name)\n",
    "if (ok):\n",
    "    terrain(coords, name)\n",
    "    satellite(coords, name)"
   ]
  },
  {
   "cell_type": "code",
   "execution_count": null,
   "metadata": {},
   "outputs": [],
   "source": [
    "coords = [-90, -55.9, -5, 15]\n",
    "name = \"colombia\"\n",
    "ok = classic(coords, name)\n",
    "if (ok):\n",
    "    terrain(coords, name)\n",
    "    satellite(coords, name)"
   ]
  },
  {
   "cell_type": "code",
   "execution_count": null,
   "metadata": {},
   "outputs": [],
   "source": [
    "coords = [-79.3, -52, -1, 15]\n",
    "name = \"venezuela\"\n",
    "ok = classic(coords, name)\n",
    "if (ok):\n",
    "    terrain(coords, name)\n",
    "    satellite(coords, name)"
   ]
  },
  {
   "cell_type": "code",
   "execution_count": null,
   "metadata": {},
   "outputs": [],
   "source": [
    "coords = [-69.1, -47, -29, -17]\n",
    "name = \"paraguay\"\n",
    "ok = classic(coords, name)\n",
    "if (ok):\n",
    "    terrain(coords, name)\n",
    "    satellite(coords, name)"
   ]
  },
  {
   "cell_type": "code",
   "execution_count": null,
   "metadata": {},
   "outputs": [],
   "source": [
    "coords = [-61.98, -48, -35.5, -28.5]\n",
    "name = \"uruguay\"\n",
    "ok = classic(coords, name)\n",
    "if (ok):\n",
    "    terrain(coords, name)\n",
    "    satellite(coords, name)"
   ]
  },
  {
   "cell_type": "code",
   "execution_count": null,
   "metadata": {},
   "outputs": [],
   "source": [
    "coords = [-79, -49.05, -24, -7]\n",
    "name = \"bolivia\"\n",
    "ok = classic(coords, name)\n",
    "if (ok):\n",
    "    terrain(coords, name)\n",
    "    satellite(coords, name)"
   ]
  },
  {
   "cell_type": "code",
   "execution_count": null,
   "metadata": {},
   "outputs": [],
   "source": [
    "coords = [22, 48, 33.14, 45]\n",
    "name = \"turkey\"\n",
    "ok = classic(coords, name)\n",
    "if (ok):\n",
    "    terrain(coords, name)\n",
    "    satellite(coords, name)"
   ]
  },
  {
   "cell_type": "code",
   "execution_count": null,
   "metadata": {},
   "outputs": [],
   "source": [
    "coords = [56, 78.65, 29, 40]\n",
    "name = \"afghanistan\"\n",
    "ok = classic(coords, name)\n",
    "if (ok):\n",
    "    terrain(coords, name)\n",
    "    satellite(coords, name)"
   ]
  },
  {
   "cell_type": "code",
   "execution_count": null,
   "metadata": {
    "scrolled": true
   },
   "outputs": [],
   "source": [
    "coords = [105, 140, 2, 22.15]\n",
    "name = \"philippines\"\n",
    "ok = classic(coords, name)\n",
    "if (ok):\n",
    "    terrain(coords, name)\n",
    "    satellite(coords, name)"
   ]
  },
  {
   "cell_type": "code",
   "execution_count": null,
   "metadata": {
    "scrolled": false
   },
   "outputs": [],
   "source": [
    "coords = [20, 30, 56.92, 60]\n",
    "name = \"estonia\"\n",
    "ok = classic(coords, name)\n",
    "if (ok):\n",
    "    terrain(coords, name)\n",
    "    satellite(coords, name)"
   ]
  },
  {
   "cell_type": "code",
   "execution_count": null,
   "metadata": {},
   "outputs": [],
   "source": [
    "coords = [20, 30, 55.285, 58.5]\n",
    "name = \"latvia\"\n",
    "ok = classic(coords, name)\n",
    "if (ok):\n",
    "    terrain(coords, name)\n",
    "    satellite(coords, name)"
   ]
  },
  {
   "cell_type": "code",
   "execution_count": null,
   "metadata": {},
   "outputs": [],
   "source": [
    "coords = [18.43, 28, 53.8, 57]\n",
    "name = \"lithuania\"\n",
    "ok = classic(coords, name)\n",
    "if (ok):\n",
    "    terrain(coords, name)\n",
    "    satellite(coords, name)"
   ]
  },
  {
   "cell_type": "code",
   "execution_count": null,
   "metadata": {},
   "outputs": [],
   "source": [
    "coords = [4, 12.66, 45, 48.5]\n",
    "name = \"switzerland\"\n",
    "ok = classic(coords, name)\n",
    "if (ok):\n",
    "    terrain(coords, name)\n",
    "    satellite(coords, name)"
   ]
  },
  {
   "cell_type": "code",
   "execution_count": null,
   "metadata": {},
   "outputs": [],
   "source": [
    "coords = [90, 120.1, 8, 25]\n",
    "name = \"vietnam\"\n",
    "ok = classic(coords, name)\n",
    "if (ok):\n",
    "    terrain(coords, name)\n",
    "    satellite(coords, name)"
   ]
  },
  {
   "cell_type": "code",
   "execution_count": null,
   "metadata": {},
   "outputs": [],
   "source": [
    "coords = [12.440, 12.4605, 41.899, 41.908]\n",
    "name = \"vaticancity\"\n",
    "ok = classic(coords, name)\n",
    "if (ok):\n",
    "    terrain(coords, name)\n",
    "    satellite(coords, name)"
   ]
  },
  {
   "cell_type": "code",
   "execution_count": null,
   "metadata": {
    "scrolled": false
   },
   "outputs": [],
   "source": [
    "coords = [121, 135.75, 33, 40]\n",
    "name = \"southkorea\"\n",
    "ok = classic(coords, name)\n",
    "if (ok):\n",
    "    terrain(coords, name)\n",
    "    satellite(coords, name)"
   ]
  },
  {
   "cell_type": "code",
   "execution_count": null,
   "metadata": {},
   "outputs": [],
   "source": [
    "coords = [23.8, 63.5, 15, 36]\n",
    "name = \"saudiarabia\"\n",
    "ok = classic(coords, name)\n",
    "if (ok):\n",
    "    terrain(coords, name)\n",
    "    satellite(coords, name)"
   ]
  },
  {
   "cell_type": "code",
   "execution_count": null,
   "metadata": {},
   "outputs": [],
   "source": [
    "coords = [151, 190.4, -49, -31.4]\n",
    "name = \"newzealand\"\n",
    "ok = classic(coords, name)\n",
    "if (ok):\n",
    "    terrain(coords, name)\n",
    "    satellite(coords, name)"
   ]
  },
  {
   "cell_type": "code",
   "execution_count": null,
   "metadata": {},
   "outputs": [],
   "source": [
    "coords = [52.25, 84, 23, 39]\n",
    "name = \"pakistan\"\n",
    "ok = classic(coords, name)\n",
    "if (ok):\n",
    "    terrain(coords, name)\n",
    "    satellite(coords, name)"
   ]
  },
  {
   "cell_type": "code",
   "execution_count": null,
   "metadata": {},
   "outputs": [],
   "source": [
    "coords = [-25, 10, 20.03, 38]\n",
    "name = \"morocco\"\n",
    "ok = classic(coords, name)\n",
    "if (ok):\n",
    "    terrain(coords, name)\n",
    "    satellite(coords, name)"
   ]
  },
  {
   "cell_type": "code",
   "execution_count": null,
   "metadata": {},
   "outputs": [],
   "source": [
    "coords = [3.53, 41, -14, 8]\n",
    "name = \"democraticrepublicofthecongo\"\n",
    "ok = classic(coords, name)\n",
    "if (ok):\n",
    "    terrain(coords, name)\n",
    "    satellite(coords, name)"
   ]
  },
  {
   "cell_type": "code",
   "execution_count": null,
   "metadata": {
    "scrolled": true
   },
   "outputs": [],
   "source": [
    "coords = [9, 37, -35.51, -21]\n",
    "name = \"southafrica\"\n",
    "ok = classic(coords, name)\n",
    "if (ok):\n",
    "    terrain(coords, name)\n",
    "    satellite(coords, name)"
   ]
  },
  {
   "cell_type": "code",
   "execution_count": null,
   "metadata": {
    "scrolled": true
   },
   "outputs": [],
   "source": [
    "coords = [-2.48, 19, 3.5, 16]\n",
    "name = \"nigeria\"\n",
    "ok = classic(coords, name)\n",
    "if (ok):\n",
    "    terrain(coords, name)\n",
    "    satellite(coords, name)"
   ]
  },
  {
   "cell_type": "code",
   "execution_count": null,
   "metadata": {},
   "outputs": [],
   "source": [
    "coords = [-84, -34.3, -19, 10]\n",
    "name = \"amazon\"\n",
    "ok = classic(coords, name)\n",
    "if (ok):\n",
    "    terrain(coords, name)\n",
    "    satellite(coords, name)"
   ]
  },
  {
   "cell_type": "code",
   "execution_count": null,
   "metadata": {},
   "outputs": [],
   "source": [
    "coords = [-91.7, -17, -34, 8]\n",
    "name = \"brazil\"\n",
    "ok = classic(coords, name)\n",
    "if (ok):\n",
    "    terrain(coords, name)\n",
    "    satellite(coords, name)"
   ]
  },
  {
   "cell_type": "code",
   "execution_count": null,
   "metadata": {},
   "outputs": [],
   "source": [
    "coords = [-120, -80, 13.61, 35]\n",
    "name = \"mexico\"\n",
    "ok = classic(coords, name)\n",
    "if (ok):\n",
    "    terrain(coords, name)\n",
    "    satellite(coords, name)"
   ]
  },
  {
   "cell_type": "code",
   "execution_count": null,
   "metadata": {},
   "outputs": [],
   "source": [
    "coords = [50, 107.3, 6, 37]\n",
    "name = \"india\"\n",
    "ok = classic(coords, name)\n",
    "if (ok):\n",
    "    terrain(coords, name)\n",
    "    satellite(coords, name)"
   ]
  },
  {
   "cell_type": "code",
   "execution_count": null,
   "metadata": {
    "scrolled": true
   },
   "outputs": [],
   "source": [
    "coords = [-2.1, 25.4, 36, 48]\n",
    "name = \"italy\"\n",
    "ok = classic(coords, name)\n",
    "if (ok):\n",
    "    terrain(coords, name)\n",
    "    satellite(coords, name)"
   ]
  },
  {
   "cell_type": "code",
   "execution_count": null,
   "metadata": {},
   "outputs": [],
   "source": [
    "coords = [-19.55, 15, 49.5, 61]\n",
    "name = \"unitedkingdom\"\n",
    "ok = classic(coords, name)\n",
    "if (ok):\n",
    "    terrain(coords, name)\n",
    "    satellite(coords, name)"
   ]
  },
  {
   "cell_type": "code",
   "execution_count": null,
   "metadata": {},
   "outputs": [],
   "source": [
    "coords = [-2.1, 23, 46.8, 56]\n",
    "name = \"germany\"\n",
    "ok = classic(coords, name)\n",
    "if (ok):\n",
    "    terrain(coords, name)\n",
    "    satellite(coords, name)"
   ]
  },
  {
   "cell_type": "code",
   "execution_count": null,
   "metadata": {},
   "outputs": [],
   "source": [
    "coords = [-10.2, 17, 41, 52]\n",
    "name = \"france\"\n",
    "ok = classic(coords, name)\n",
    "if (ok):\n",
    "    terrain(coords, name)\n",
    "    satellite(coords, name)"
   ]
  },
  {
   "cell_type": "code",
   "execution_count": null,
   "metadata": {},
   "outputs": [],
   "source": [
    "coords = [-130, -60, 22, 53.7]\n",
    "name = \"unitedstates\"\n",
    "ok = classic(coords, name)\n",
    "if (ok):\n",
    "    terrain(coords, name)\n",
    "    satellite(coords, name)"
   ]
  },
  {
   "cell_type": "code",
   "execution_count": null,
   "metadata": {},
   "outputs": [],
   "source": [
    "coords = [36, 72.6, 24, 42]\n",
    "name = \"iran\"\n",
    "ok = classic(coords, name)\n",
    "if (ok):\n",
    "    terrain(coords, name)\n",
    "    satellite(coords, name)"
   ]
  },
  {
   "cell_type": "code",
   "execution_count": null,
   "metadata": {
    "scrolled": true
   },
   "outputs": [],
   "source": [
    "coords = [62, 148, 16.85, 56]\n",
    "name = \"china\"\n",
    "ok = classic(coords, name)\n",
    "if (ok):\n",
    "    terrain(coords, name)\n",
    "    satellite(coords, name)"
   ]
  },
  {
   "cell_type": "code",
   "execution_count": null,
   "metadata": {},
   "outputs": [],
   "source": []
  },
  {
   "cell_type": "code",
   "execution_count": null,
   "metadata": {},
   "outputs": [],
   "source": [
    "coords = [-14.18, 8, 35, 45]\n",
    "name = \"spain\"\n",
    "ok = classic(coords, name)\n",
    "if (ok):\n",
    "    terrain(coords, name)\n",
    "    satellite(coords, name)"
   ]
  },
  {
   "cell_type": "code",
   "execution_count": null,
   "metadata": {},
   "outputs": [],
   "source": [
    "coords = [84.5, 151, -23.5, 15]\n",
    "name = \"indonesia\"\n",
    "ok = classic(coords, name)\n",
    "if (ok):\n",
    "    terrain(coords, name)\n",
    "    satellite(coords, name)"
   ]
  },
  {
   "cell_type": "code",
   "execution_count": null,
   "metadata": {},
   "outputs": [],
   "source": [
    "coords = [16.5, 41.7, 20.81, 34]\n",
    "name = \"egypt\"\n",
    "ok = classic(coords, name)\n",
    "if (ok):\n",
    "    terrain(coords, name)\n",
    "    satellite(coords, name)"
   ]
  },
  {
   "cell_type": "code",
   "execution_count": null,
   "metadata": {},
   "outputs": [],
   "source": [
    "coords = [-92, -55, -19.5, 2]\n",
    "name = \"peru\"\n",
    "ok = classic(coords, name)\n",
    "if (ok):\n",
    "    terrain(coords, name)\n",
    "    satellite(coords, name)"
   ]
  },
  {
   "cell_type": "code",
   "execution_count": null,
   "metadata": {},
   "outputs": [],
   "source": [
    "coords = [17.4, 45.3, 43.18, 54]\n",
    "name = \"ukraine\"\n",
    "ok = classic(coords, name)\n",
    "if (ok):\n",
    "    terrain(coords, name)\n",
    "    satellite(coords, name)"
   ]
  },
  {
   "cell_type": "code",
   "execution_count": null,
   "metadata": {},
   "outputs": [],
   "source": [
    "coords = [-102, -20, -56.5, -20]\n",
    "name = \"argentina\"\n",
    "ok = classic(coords, name)\n",
    "if (ok):\n",
    "    terrain(coords, name)\n",
    "    satellite(coords, name)"
   ]
  },
  {
   "cell_type": "code",
   "execution_count": null,
   "metadata": {},
   "outputs": [],
   "source": [
    "coords = [97, 170, -45.5, -8]\n",
    "name = \"australia\"\n",
    "ok = classic(coords, name)\n",
    "if (ok):\n",
    "    terrain(coords, name)\n",
    "    satellite(coords, name)"
   ]
  },
  {
   "cell_type": "code",
   "execution_count": null,
   "metadata": {},
   "outputs": [],
   "source": [
    "coords = [-152.1, -40, 38, 72.5]\n",
    "name = \"canada\"\n",
    "ok = classic(coords, name)\n",
    "if (ok):\n",
    "    terrain(coords, name)\n",
    "    satellite(coords, name)"
   ]
  },
  {
   "cell_type": "code",
   "execution_count": null,
   "metadata": {},
   "outputs": [],
   "source": [
    "coords = [-25, 50, 52.2, 72]\n",
    "name = \"nordic\"\n",
    "ok = classic(coords, name)\n",
    "if (ok):\n",
    "    terrain(coords, name)\n",
    "    satellite(coords, name)"
   ]
  },
  {
   "cell_type": "code",
   "execution_count": null,
   "metadata": {},
   "outputs": [],
   "source": [
    "coords = [110, 164.5, 23.5, 49]\n",
    "name = \"japan\"\n",
    "ok = classic(coords, name)\n",
    "if (ok):\n",
    "    terrain(coords, name)\n",
    "    satellite(coords, name)"
   ]
  },
  {
   "cell_type": "code",
   "execution_count": null,
   "metadata": {},
   "outputs": [],
   "source": [
    "coords = [129, 270, -49, 26]\n",
    "name = \"polynesia\"\n",
    "ok = classic(coords, name)\n",
    "if (ok):\n",
    "    terrain(coords, name)\n",
    "    satellite(coords, name)"
   ]
  },
  {
   "cell_type": "code",
   "execution_count": null,
   "metadata": {
    "scrolled": true
   },
   "outputs": [],
   "source": [
    "coords = [5, 39, 34.15, 49.05]\n",
    "name = \"balkans\"\n",
    "ok = classic(coords, name)\n",
    "if (ok):\n",
    "    terrain(coords, name)\n",
    "    satellite(coords, name)"
   ]
  },
  {
   "cell_type": "code",
   "execution_count": null,
   "metadata": {
    "scrolled": true
   },
   "outputs": [],
   "source": [
    "coords = [23.1, 68, 12, 36]\n",
    "name = \"arabia\"\n",
    "ok = classic(coords, name)\n",
    "if (ok):\n",
    "    terrain(coords, name)\n",
    "    satellite(coords, name)"
   ]
  },
  {
   "cell_type": "code",
   "execution_count": null,
   "metadata": {},
   "outputs": [],
   "source": [
    "coords = [28, 106, 23, 57]\n",
    "name = \"thestans\"\n",
    "ok = classic(coords, name)\n",
    "if (ok):\n",
    "    terrain(coords, name)\n",
    "    satellite(coords, name)"
   ]
  },
  {
   "cell_type": "code",
   "execution_count": null,
   "metadata": {
    "scrolled": true
   },
   "outputs": [],
   "source": [
    "coords = [-19, 49.2, 6, 42]\n",
    "name = \"sahara\"\n",
    "ok = classic(coords, name)\n",
    "if (ok):\n",
    "    terrain(coords, name)\n",
    "    satellite(coords, name)"
   ]
  },
  {
   "cell_type": "code",
   "execution_count": null,
   "metadata": {},
   "outputs": [],
   "source": []
  },
  {
   "cell_type": "code",
   "execution_count": null,
   "metadata": {},
   "outputs": [],
   "source": []
  },
  {
   "cell_type": "code",
   "execution_count": null,
   "metadata": {},
   "outputs": [],
   "source": []
  },
  {
   "cell_type": "code",
   "execution_count": null,
   "metadata": {},
   "outputs": [],
   "source": [
    "coords = [30, 49, 5.9, -5.33]\n",
    "name = \"kenya\"\n",
    "ok = classic(coords, name)\n",
    "if (ok):\n",
    "    terrain(coords, name)\n",
    "    satellite(coords, name)"
   ]
  },
  {
   "cell_type": "code",
   "execution_count": null,
   "metadata": {},
   "outputs": [],
   "source": [
    "coords = [18.8, 33.7, 49, 42.9]\n",
    "name = \"romania\"\n",
    "ok = classic(coords, name)\n",
    "if (ok):\n",
    "    terrain(coords, name)\n",
    "    satellite(coords, name)"
   ]
  },
  {
   "cell_type": "code",
   "execution_count": null,
   "metadata": {
    "scrolled": false
   },
   "outputs": [],
   "source": []
  },
  {
   "cell_type": "markdown",
   "metadata": {},
   "source": [
    "# Antarctica"
   ]
  },
  {
   "cell_type": "code",
   "execution_count": null,
   "metadata": {},
   "outputs": [],
   "source": [
    "coords = [-180, 180, -90, -55]\n",
    "name = \"antarctica\"\n",
    "ok = classic(coords, name)\n",
    "if (ok):\n",
    "    terrain(coords, name)\n",
    "    satellite(coords, name)\n",
    "\n",
    "\n",
    "# # Antarctica\n",
    "# my_dpi=96\n",
    "# f = plt.figure(figsize=(1530/my_dpi, 900/my_dpi), dpi=my_dpi, frameon=False)\n",
    "# ax1 = plt.axes(projection=ccrs.SouthPolarStereo())\n",
    "\n",
    "# # Limit the map to -60 degrees latitude and below.\n",
    "# ax1.set_extent([-180, 180, -90, -55], ccrs.PlateCarree())\n",
    "\n",
    "# ax1.add_feature(cartopy.feature.LAND)\n",
    "# ax1.add_feature(cartopy.feature.OCEAN)\n",
    "\n",
    "# ax1.gridlines()\n",
    "\n",
    "\n",
    "\n",
    "# plt.show()"
   ]
  },
  {
   "cell_type": "code",
   "execution_count": null,
   "metadata": {},
   "outputs": [],
   "source": []
  },
  {
   "cell_type": "markdown",
   "metadata": {},
   "source": [
    "# Spinning Globe"
   ]
  },
  {
   "cell_type": "code",
   "execution_count": null,
   "metadata": {},
   "outputs": [],
   "source": [
    "i = 0\n",
    "for lon_viewing_angle in np.arange(-180, 180, 3):\n",
    "        fig = plt.figure(figsize=(3,3))\n",
    "        #print(lon_viewing_angle)\n",
    "        # set perspective angle\n",
    "        lat_viewing_angle = 40\n",
    "        #lon_viewing_angle = -180\n",
    "\n",
    "        # define color maps for water and land\n",
    "        ocean_map = (plt.get_cmap('ocean'))(210)\n",
    "        cmap = plt.get_cmap('gist_earth')\n",
    "\n",
    "        # call the basemap and use orthographic projection at viewing angle\n",
    "        m = Basemap(projection='ortho',\n",
    "                  lat_0=lat_viewing_angle, lon_0=lon_viewing_angle)\n",
    "\n",
    "        # coastlines, map boundary, fill continents/water, fill ocean, draw countries\n",
    "        m.drawcoastlines()\n",
    "        m.drawmapboundary(fill_color=ocean_map)\n",
    "        m.fillcontinents(color='coral',lake_color=ocean_map)\n",
    "#       m.drawcountries()\n",
    "\n",
    "        # latitude/longitude line vectors\n",
    "        lat_line_range = [-90,90]\n",
    "        lat_lines = 8\n",
    "        lat_line_count = (lat_line_range[1]-lat_line_range[0])/lat_lines\n",
    "\n",
    "        merid_range = [-180,180]\n",
    "        merid_lines = 8\n",
    "        merid_count = (merid_range[1]-merid_range[0])/merid_lines\n",
    "\n",
    "        m.drawparallels(np.arange(lat_line_range[0],lat_line_range[1],lat_line_count))\n",
    "        m.drawmeridians(np.arange(merid_range[0],merid_range[1],merid_count))\n",
    "\n",
    "        # save figure at 150 dpi and show it\n",
    "        plt.savefig('globe_classic/view' + str(i).zfill(3) + '.png',dpi=150,transparent=True)\n",
    "        plt.show()\n",
    "        plt.clf()\n",
    "        i = i + 1;\n"
   ]
  },
  {
   "cell_type": "code",
   "execution_count": null,
   "metadata": {},
   "outputs": [],
   "source": [
    "from PIL import Image\n",
    "import IPython.display as display\n",
    "import os, math, time\n",
    "\n",
    "max_frames_row = 1000\n",
    "frames = []\n",
    "tile_width = 0\n",
    "tile_height = 0\n",
    "\n",
    "spritesheet_width = 0\n",
    "spritesheet_height = 0\n",
    "\n",
    "files = os.listdir(\"globe/\")\n",
    "files.sort()\n",
    "print(files)\n",
    "\n",
    "for current_file in files :\n",
    "    try:\n",
    "        with Image.open(\"globe_classic/\" + current_file) as im :\n",
    "            frames.append(im.getdata())\n",
    "    except:\n",
    "        print(current_file + \" is not a valid image\")\n",
    "\n",
    "tile_width = frames[0].size[0]\n",
    "tile_height = frames[0].size[1]\n",
    "\n",
    "if len(frames) > max_frames_row :\n",
    "    spritesheet_width = tile_width * max_frames_row\n",
    "    required_rows = math.ceil(len(frames)/max_frames_row)\n",
    "    spritesheet_height = tile_height * required_rows\n",
    "else:\n",
    "    spritesheet_width = tile_width*len(frames)\n",
    "    spritesheet_height = tile_height\n",
    "\n",
    "print(spritesheet_height)\n",
    "print(spritesheet_width)\n",
    "\n",
    "spritesheet = Image.new(\"RGBA\",(int(spritesheet_width), int(spritesheet_height)))\n",
    "\n",
    "for current_frame in frames :\n",
    "    top = tile_height * math.floor((frames.index(current_frame))/max_frames_row)\n",
    "    left = tile_width * (frames.index(current_frame) % max_frames_row)\n",
    "    bottom = top + tile_height\n",
    "    right = left + tile_width\n",
    "\n",
    "    box = (left,top,right,bottom)\n",
    "    box = [int(i) for i in box]\n",
    "    cut_frame = current_frame.crop((0,0,tile_width,tile_height))\n",
    "\n",
    "    spritesheet.paste(cut_frame, box)\n",
    "\n",
    "display.display(spritesheet)\n",
    "spritesheet.save(\"spritesheet_classic.png\", \"PNG\")\n"
   ]
  },
  {
   "cell_type": "markdown",
   "metadata": {},
   "source": [
    "# Favicon"
   ]
  },
  {
   "cell_type": "code",
   "execution_count": null,
   "metadata": {},
   "outputs": [],
   "source": [
    "lon_viewing_angle=0\n",
    "fig = plt.figure(figsize=(0.32,0.32))\n",
    "#print(lon_viewing_angle)\n",
    "# set perspective angle\n",
    "lat_viewing_angle = 40\n",
    "#lon_viewing_angle = -180\n",
    "\n",
    "# define color maps for water and land\n",
    "ocean_map = (plt.get_cmap('ocean'))(210)\n",
    "cmap = plt.get_cmap('gist_earth')\n",
    "\n",
    "# call the basemap and use orthographic projection at viewing angle\n",
    "m = Basemap(projection='ortho',\n",
    "          lat_0=lat_viewing_angle, lon_0=lon_viewing_angle)\n",
    "\n",
    "# coastlines, map boundary, fill continents/water, fill ocean, draw countries\n",
    "#m.drawcoastlines()\n",
    "m.drawmapboundary(fill_color=ocean_map)\n",
    "m.fillcontinents(color=cmap(200),lake_color=ocean_map)\n",
    "#m.drawcountries()\n",
    "\n",
    "# latitude/longitude line vectors\n",
    "lat_line_range = [-90,90]\n",
    "lat_lines = 3\n",
    "lat_line_count = (lat_line_range[1]-lat_line_range[0])/lat_lines\n",
    "\n",
    "merid_range = [-180,180]\n",
    "merid_lines = 3\n",
    "merid_count = (merid_range[1]-merid_range[0])/merid_lines\n",
    "\n",
    "#m.drawparallels(np.arange(lat_line_range[0],lat_line_range[1],lat_line_count))\n",
    "#m.drawmeridians(np.arange(merid_range[0],merid_range[1],merid_count))\n",
    "\n",
    "# save figure at 150 dpi and show it\n",
    "plt.savefig('favicon.png',dpi=150,transparent=True)\n",
    "plt.show()\n",
    "plt.clf()\n"
   ]
  },
  {
   "cell_type": "markdown",
   "metadata": {},
   "source": [
    "# OG Image"
   ]
  },
  {
   "cell_type": "code",
   "execution_count": null,
   "metadata": {},
   "outputs": [],
   "source": [
    "lon_viewing_angle=0\n",
    "fig = plt.figure(figsize=(5,5))\n",
    "#print(lon_viewing_angle)\n",
    "# set perspective angle\n",
    "lat_viewing_angle = 40\n",
    "#lon_viewing_angle = -180\n",
    "\n",
    "# define color maps for water and land\n",
    "ocean_map = (plt.get_cmap('ocean'))(210)\n",
    "cmap = plt.get_cmap('gist_earth')\n",
    "\n",
    "# call the basemap and use orthographic projection at viewing angle\n",
    "m = Basemap(projection='ortho',\n",
    "          lat_0=lat_viewing_angle, lon_0=lon_viewing_angle)\n",
    "\n",
    "# coastlines, map boundary, fill continents/water, fill ocean, draw countries\n",
    "#m.drawcoastlines()\n",
    "m.drawmapboundary(fill_color=ocean_map)\n",
    "m.fillcontinents(color=cmap(200),lake_color=ocean_map)\n",
    "#m.drawcountries()\n",
    "\n",
    "# latitude/longitude line vectors\n",
    "lat_line_range = [-90,90]\n",
    "lat_lines = 3\n",
    "lat_line_count = (lat_line_range[1]-lat_line_range[0])/lat_lines\n",
    "\n",
    "merid_range = [-180,180]\n",
    "merid_lines = 3\n",
    "merid_count = (merid_range[1]-merid_range[0])/merid_lines\n",
    "\n",
    "#m.drawparallels(np.arange(lat_line_range[0],lat_line_range[1],lat_line_count))\n",
    "#m.drawmeridians(np.arange(merid_range[0],merid_range[1],merid_count))\n",
    "\n",
    "# save figure at 150 dpi and show it\n",
    "plt.savefig('ogimage.png',dpi=500,transparent=True)\n",
    "plt.show()\n",
    "plt.clf()"
   ]
  },
  {
   "cell_type": "markdown",
   "metadata": {},
   "source": [
    "# Spinning Globe Terrain"
   ]
  },
  {
   "cell_type": "code",
   "execution_count": null,
   "metadata": {},
   "outputs": [],
   "source": [
    "from mpl_toolkits.basemap import Basemap\n",
    "import cartopy.crs as ccrs\n",
    "import cartopy\n",
    "import matplotlib.pyplot as plt\n",
    "import cartopy.feature as cfeature\n",
    "import os\n",
    "\n",
    "import cartopy.io.img_tiles as cimgt\n",
    "\n",
    "from matplotlib.image import imread\n",
    "import numpy as np\n",
    "\n",
    "stamen = True\n",
    "start_angle = 81\n",
    "i = int((start_angle + 180) / 3)\n",
    "for lon_viewing_angle in np.arange(start_angle, 180, 3):\n",
    "        print(lon_viewing_angle)\n",
    "\n",
    "        plt.figure(figsize=(3,3), dpi=150, frameon=False)\n",
    "#         plt.subplots_adjust(left=0.0, right=1.0, top=1.0, bottom=0)\n",
    "\n",
    "        ax = plt.axes(projection=ccrs.Orthographic(central_longitude=lon_viewing_angle, central_latitude=40))\n",
    "        ax.set_axis_off()\n",
    "\n",
    "        # land = cfeature.NaturalEarthFeature('physical', 'land', '10m', edgecolor = 'none', facecolor = 'none')\n",
    "        # ax.add_feature(land)\n",
    "\n",
    "        coastline = cfeature.NaturalEarthFeature('physical', 'coastline', '50m', edgecolor='black',\n",
    "                                                   facecolor='none')\n",
    "        ax.add_feature(coastline)\n",
    "\n",
    "        borders = cfeature.NaturalEarthFeature('cultural', 'admin_0_countries', '10m', edgecolor='black',\n",
    "                                                   facecolor='none')\n",
    "        ax.add_feature(borders, linewidth = 0.5, linestyle='-')\n",
    "\n",
    "#         dispute = cfeature.NaturalEarthFeature('cultural', 'admin_0_breakaway_disputed_areas', '50m', edgecolor='red',\n",
    "#                                                    facecolor='none')\n",
    "#         ax.add_feature(dispute, linewidth = 0.6, linestyle='-')\n",
    "\n",
    "        # lakes = cfeature.NaturalEarthFeature('physical', 'lakes', '10m')\n",
    "        # ax.add_feature(lakes, alpha = 0.8)\n",
    "\n",
    "        # rivers = cfeature.NaturalEarthFeature('physical', 'rivers_lake_centerlines', '110m')\n",
    "        # ax.add_feature(rivers, alpha = 0.8)\n",
    "\n",
    "        ax.add_feature(cartopy.feature.RIVERS, alpha = 0.8)\n",
    "        ax.add_feature(cartopy.feature.LAKES, alpha = 0.8)\n",
    "        ax.gridlines(crs=ccrs.PlateCarree(), linestyle='--', linewidth=0.2, color='grey')\n",
    "\n",
    "    #     ax.stock_img()\n",
    "        if (stamen):\n",
    "            # Create a Stamen terrain background instance.\n",
    "            terrain = cimgt.Stamen('terrain-background')\n",
    "        else:\n",
    "            terrain = cimgt.GoogleTiles(style='satellite') # need cartopy 0.19 or 0.20 for cache=True)\n",
    "        ax.add_image(terrain, 1)\n",
    "\n",
    "        # save figure at 150 dpi and show it\n",
    "        if (stamen): sfx = '_terrain'\n",
    "        else: sfx = '_satellite'\n",
    "        plt.savefig('globe' + sfx + '/view' + str(i).zfill(3) + '.png',dpi=150,transparent=True)\n",
    "        plt.close()\n",
    "#         plt.show()\n",
    "#         plt.clf()\n",
    "        i = i + 1;\n",
    "\n",
    "from PIL import Image\n",
    "import IPython.display as display\n",
    "import os, math, time\n",
    "max_frames_row = 1000\n",
    "frames = []\n",
    "tile_width = 0\n",
    "tile_height = 0\n",
    "\n",
    "spritesheet_width = 0\n",
    "spritesheet_height = 0\n",
    "\n",
    "files = os.listdir(\"globe/\")\n",
    "files.sort()\n",
    "print(files)\n",
    "\n",
    "for current_file in files :\n",
    "    try:\n",
    "        with Image.open(\"globe\" + sfx + \"/\" + current_file) as im :\n",
    "            frames.append(im.getdata())\n",
    "    except:\n",
    "        print(current_file + \" is not a valid image\")\n",
    "\n",
    "tile_width = frames[0].size[0]\n",
    "tile_height = frames[0].size[1]\n",
    "\n",
    "if len(frames) > max_frames_row :\n",
    "    spritesheet_width = tile_width * max_frames_row\n",
    "    required_rows = math.ceil(len(frames)/max_frames_row)\n",
    "    spritesheet_height = tile_height * required_rows\n",
    "else:\n",
    "    spritesheet_width = tile_width*len(frames)\n",
    "    spritesheet_height = tile_height\n",
    "\n",
    "print(spritesheet_height)\n",
    "print(spritesheet_width)\n",
    "\n",
    "spritesheet = Image.new(\"RGBA\",(int(spritesheet_width), int(spritesheet_height)))\n",
    "\n",
    "for current_frame in frames :\n",
    "    top = tile_height * math.floor((frames.index(current_frame))/max_frames_row)\n",
    "    left = tile_width * (frames.index(current_frame) % max_frames_row)\n",
    "    bottom = top + tile_height\n",
    "    right = left + tile_width\n",
    "\n",
    "    box = (left,top,right,bottom)\n",
    "    box = [int(i) for i in box]\n",
    "    cut_frame = current_frame.crop((0,0,tile_width,tile_height))\n",
    "\n",
    "    spritesheet.paste(cut_frame, box)\n",
    "\n",
    "display.display(spritesheet)\n",
    "spritesheet.save(\"spritesheet\" + sfx + \".png\", \"PNG\")\n"
   ]
  },
  {
   "cell_type": "markdown",
   "metadata": {},
   "source": [
    "# Spinning Globe Satellite"
   ]
  },
  {
   "cell_type": "code",
   "execution_count": null,
   "metadata": {},
   "outputs": [],
   "source": [
    "import cartopy.crs as ccrs\n",
    "import cartopy\n",
    "import matplotlib.pyplot as plt\n",
    "import cartopy.feature as cfeature\n",
    "import os\n",
    "\n",
    "import cartopy.io.img_tiles as cimgt\n",
    "\n",
    "from matplotlib.image import imread\n",
    "import numpy as np\n",
    "\n",
    "stamen = False\n",
    "start_angle = 177\n",
    "i = int((start_angle + 180) / 3)\n",
    "for lon_viewing_angle in np.arange(start_angle, 180, 3):\n",
    "        print(lon_viewing_angle)\n",
    "\n",
    "        plt.figure(figsize=(3,3), dpi=150, frameon=False)\n",
    "#         plt.subplots_adjust(left=0.0, right=1.0, top=1.0, bottom=0)\n",
    "\n",
    "        ax = plt.axes(projection=ccrs.Orthographic(central_longitude=lon_viewing_angle, central_latitude=40))\n",
    "        ax.set_axis_off()\n",
    "\n",
    "        # land = cfeature.NaturalEarthFeature('physical', 'land', '10m', edgecolor = 'none', facecolor = 'none')\n",
    "        # ax.add_feature(land)\n",
    "\n",
    "        coastline = cfeature.NaturalEarthFeature('physical', 'coastline', '50m', edgecolor='black',\n",
    "                                                   facecolor='none')\n",
    "        ax.add_feature(coastline)\n",
    "\n",
    "        borders = cfeature.NaturalEarthFeature('cultural', 'admin_0_countries', '10m', edgecolor='black',\n",
    "                                                   facecolor='none')\n",
    "        ax.add_feature(borders, linewidth = 0.5, linestyle='-')\n",
    "\n",
    "#         dispute = cfeature.NaturalEarthFeature('cultural', 'admin_0_breakaway_disputed_areas', '50m', edgecolor='red',\n",
    "#                                                    facecolor='none')\n",
    "#         ax.add_feature(dispute, linewidth = 0.6, linestyle='-')\n",
    "\n",
    "        # lakes = cfeature.NaturalEarthFeature('physical', 'lakes', '10m')\n",
    "        # ax.add_feature(lakes, alpha = 0.8)\n",
    "\n",
    "        # rivers = cfeature.NaturalEarthFeature('physical', 'rivers_lake_centerlines', '110m')\n",
    "        # ax.add_feature(rivers, alpha = 0.8)\n",
    "\n",
    "#         ax.add_feature(cartopy.feature.RIVERS, alpha = 0.8)\n",
    "#         ax.add_feature(cartopy.feature.LAKES, alpha = 0.8)\n",
    "        ax.gridlines(crs=ccrs.PlateCarree(), linestyle='--', linewidth=0.2, color='grey')\n",
    "\n",
    "    #     ax.stock_img()\n",
    "        if (stamen):\n",
    "            # Create a Stamen terrain background instance.\n",
    "            terrain = cimgt.Stamen('terrain-background')\n",
    "        else:\n",
    "            terrain = cimgt.GoogleTiles(style='satellite') # need cartopy 0.19 or 0.20 for cache=True)\n",
    "        ax.add_image(terrain, 1)\n",
    "\n",
    "        # save figure at 150 dpi and show it\n",
    "        if (stamen): sfx = '_terrain'\n",
    "        else: sfx = '_satellite'\n",
    "        plt.savefig('globe' + sfx + '/view' + str(i).zfill(3) + '.png',dpi=150,transparent=True)\n",
    "        plt.close()\n",
    "#         plt.show()\n",
    "#         plt.clf()\n",
    "        i = i + 1;\n",
    "\n",
    "from PIL import Image\n",
    "import IPython.display as display\n",
    "import os, math, time\n",
    "max_frames_row = 1000\n",
    "frames = []\n",
    "tile_width = 0\n",
    "tile_height = 0\n",
    "\n",
    "spritesheet_width = 0\n",
    "spritesheet_height = 0\n",
    "\n",
    "files = os.listdir(\"globe/\")\n",
    "files.sort()\n",
    "print(files)\n",
    "\n",
    "for current_file in files :\n",
    "    try:\n",
    "        with Image.open(\"globe\" + sfx + \"/\" + current_file) as im :\n",
    "            frames.append(im.getdata())\n",
    "    except:\n",
    "        print(current_file + \" is not a valid image\")\n",
    "\n",
    "tile_width = frames[0].size[0]\n",
    "tile_height = frames[0].size[1]\n",
    "\n",
    "if len(frames) > max_frames_row :\n",
    "    spritesheet_width = tile_width * max_frames_row\n",
    "    required_rows = math.ceil(len(frames)/max_frames_row)\n",
    "    spritesheet_height = tile_height * required_rows\n",
    "else:\n",
    "    spritesheet_width = tile_width*len(frames)\n",
    "    spritesheet_height = tile_height\n",
    "\n",
    "print(spritesheet_height)\n",
    "print(spritesheet_width)\n",
    "\n",
    "spritesheet = Image.new(\"RGBA\",(int(spritesheet_width), int(spritesheet_height)))\n",
    "\n",
    "for current_frame in frames :\n",
    "    top = tile_height * math.floor((frames.index(current_frame))/max_frames_row)\n",
    "    left = tile_width * (frames.index(current_frame) % max_frames_row)\n",
    "    bottom = top + tile_height\n",
    "    right = left + tile_width\n",
    "\n",
    "    box = (left,top,right,bottom)\n",
    "    box = [int(i) for i in box]\n",
    "    cut_frame = current_frame.crop((0,0,tile_width,tile_height))\n",
    "\n",
    "    spritesheet.paste(cut_frame, box)\n",
    "\n",
    "display.display(spritesheet)\n",
    "spritesheet.save(\"spritesheet\" + sfx + \".png\", \"PNG\")\n"
   ]
  },
  {
   "cell_type": "code",
   "execution_count": null,
   "metadata": {},
   "outputs": [],
   "source": [
    "import cartopy.crs as ccrs\n",
    "import cartopy\n",
    "import matplotlib.pyplot as plt\n",
    "import cartopy.feature as cfeature\n",
    "import os\n",
    "%matplotlib inline\n",
    "import matplotlib.pyplot as plt\n",
    "\n",
    "import cartopy.io.img_tiles as cimgt\n",
    "\n",
    "from matplotlib.image import imread\n",
    "\n",
    "my_dpi = 96\n",
    "plt.figure(figsize=(1530/my_dpi, 900/my_dpi), dpi=my_dpi, frameon=False)\n",
    "plt.subplots_adjust(left=0.0, right=1.0, top=1.0, bottom=0)\n",
    "\n",
    "ax = plt.axes(projection=ccrs.Mercator(central_longitude=0))\n",
    "ax.set_axis_off()\n",
    "\n",
    "# land = cfeature.NaturalEarthFeature('physical', 'land', '10m', edgecolor = 'none', facecolor = 'none')\n",
    "# ax.add_feature(land)\n",
    "\n",
    "coastline = cfeature.NaturalEarthFeature('physical', 'coastline', '50m', edgecolor='black',\n",
    "                                           facecolor='none')\n",
    "ax.add_feature(coastline)\n",
    "\n",
    "borders = cfeature.NaturalEarthFeature('cultural', 'admin_0_countries', '10m', edgecolor='black',\n",
    "                                           facecolor='none')\n",
    "ax.add_feature(borders, linewidth = 0.5, linestyle='-')\n",
    "\n",
    "dispute = cfeature.NaturalEarthFeature('cultural', 'admin_0_breakaway_disputed_areas', '50m', edgecolor='red',\n",
    "                                           facecolor='none')\n",
    "ax.add_feature(dispute, linewidth = 0.6, linestyle='-')\n",
    "\n",
    "terrain = cimgt.GoogleTiles(style='satellite') # need cartopy 0.19 or 0.20 for cache=True)\n",
    "ax.add_image(terrain, 2)\n",
    "plt.show()"
   ]
  },
  {
   "cell_type": "code",
   "execution_count": null,
   "metadata": {},
   "outputs": [],
   "source": []
  },
  {
   "cell_type": "code",
   "execution_count": null,
   "metadata": {},
   "outputs": [],
   "source": [
    "import sys\n",
    "!conda install --yes --prefix {sys.prefix}  -c conda-forge gmplot"
   ]
  },
  {
   "cell_type": "code",
   "execution_count": null,
   "metadata": {},
   "outputs": [],
   "source": [
    "\n",
    "import matplotlib.pyplot as plt\n",
    "from matplotlib.transforms import offset_copy\n",
    "\n",
    "import cartopy.crs as ccrs\n",
    "import cartopy.io.img_tiles as cimgt\n",
    "\n",
    "\n",
    "def main():\n",
    "    # Create a Stamen Terrain instance.\n",
    "    #stamen_terrain = cimgt.StamenTerrain()\n",
    "    stamen_terrain = cimgt.GoogleTiles(style='satellite')\n",
    "\n",
    "    # Create a GeoAxes in the tile's projection.\n",
    "    ax = plt.axes(projection=stamen_terrain.crs)\n",
    "\n",
    "    # Limit the extent of the map to a small longitude/latitude range.\n",
    "    ax.set_extent([0, 1, 0, 1])\n",
    "\n",
    "    # Add the Stamen data at zoom level 8.\n",
    "    ax.add_image(stamen_terrain, 6)\n",
    "\n",
    "    # Add a marker for the Eyjafjallajökull volcano.\n",
    "    plt.plot(-19.613333, 63.62, marker='o', color='red', markersize=12,\n",
    "             alpha=0.7, transform=ccrs.Geodetic())\n",
    "\n",
    "    # Use the cartopy interface to create a matplotlib transform object\n",
    "    # for the Geodetic coordinate system. We will use this along with\n",
    "    # matplotlib's offset_copy function to define a coordinate system which\n",
    "    # translates the text by 25 pixels to the left.\n",
    "    geodetic_transform = ccrs.Geodetic()._as_mpl_transform(ax)\n",
    "    text_transform = offset_copy(geodetic_transform, units='dots', x=-25)\n",
    "\n",
    "    plt.show()\n",
    "\n",
    "\n",
    "if __name__ == '__main__':\n",
    "    main()"
   ]
  },
  {
   "cell_type": "code",
   "execution_count": null,
   "metadata": {},
   "outputs": [],
   "source": []
  },
  {
   "cell_type": "code",
   "execution_count": null,
   "metadata": {},
   "outputs": [],
   "source": []
  },
  {
   "cell_type": "code",
   "execution_count": null,
   "metadata": {},
   "outputs": [],
   "source": []
  }
 ],
 "metadata": {
  "kernelspec": {
   "display_name": "Python 3",
   "language": "python",
   "name": "python3"
  },
  "language_info": {
   "codemirror_mode": {
    "name": "ipython",
    "version": 3
   },
   "file_extension": ".py",
   "mimetype": "text/x-python",
   "name": "python",
   "nbconvert_exporter": "python",
   "pygments_lexer": "ipython3",
   "version": "3.8.8"
  }
 },
 "nbformat": 4,
 "nbformat_minor": 2
}
